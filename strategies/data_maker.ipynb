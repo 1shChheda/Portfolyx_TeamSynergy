{
 "cells": [
  {
   "cell_type": "code",
   "execution_count": 30,
   "metadata": {},
   "outputs": [
    {
     "name": "stdout",
     "output_type": "stream",
     "text": [
      "Dataset names based on descending average values:\n",
      "xhb_performance.csv: 23.17833333333333\n",
      "xlc_performance.csv: 15.846666666666664\n",
      "xli_performance.csv: 12.128333333333332\n",
      "xly_performance.csv: 10.979999999999999\n",
      "xlv_performance.csv: 9.685\n",
      "xle_performance.csv: 8.82\n",
      "xlb_performance.csv: 7.581666666666667\n",
      "xlp_performance.csv: 5.925\n",
      "xlf_performance.csv: 5.0183333333333335\n",
      "xlre_performance.csv: 3.9100000000000006\n",
      "xlu_performance.csv: 1.3533333333333335\n"
     ]
    }
   ],
   "source": [
    "import os\n",
    "import pandas as pd\n",
    "\n",
    "folder_path = r'C:\\Users\\Ritesh\\Desktop\\TeamSynergy_Codeshastra\\strategies\\data'  # Specify the folder path here\n",
    "dataset_averages = []\n",
    "\n",
    "for file_name in os.listdir(folder_path):\n",
    "    if file_name.endswith('.csv'):\n",
    "        file_path = os.path.join(folder_path, file_name)\n",
    "        try:\n",
    "            # Read the CSV file into a DataFrame\n",
    "            df = pd.read_csv(file_path)\n",
    "            # Clean up the data: remove percentage symbols and convert to numeric\n",
    "            df.iloc[:, 1] = df.iloc[:, 1].str.rstrip('%').astype(float)\n",
    "            # Calculate the average value of the second column from rows 0 to 5\n",
    "            average_value = df.iloc[:6, 1].mean()  # Assuming the second column index is 1\n",
    "            # Append dataset name and average value to the list\n",
    "            dataset_averages.append({'name': file_name, 'average': average_value})\n",
    "        except Exception as e:\n",
    "            print(f\"Error reading file {file_name}: {e}\")\n",
    "\n",
    "# Sort dataset averages based on descending average values\n",
    "dataset_averages.sort(key=lambda x: x['average'], reverse=True)\n",
    "\n",
    "# Print dataset names based on descending average values\n",
    "print('Dataset names based on descending average values:')\n",
    "for dataset in dataset_averages:\n",
    "    print(f\"{dataset['name']}: {dataset['average']}\")\n"
   ]
  }
 ],
 "metadata": {
  "kernelspec": {
   "display_name": "Python 3",
   "language": "python",
   "name": "python3"
  },
  "language_info": {
   "codemirror_mode": {
    "name": "ipython",
    "version": 3
   },
   "file_extension": ".py",
   "mimetype": "text/x-python",
   "name": "python",
   "nbconvert_exporter": "python",
   "pygments_lexer": "ipython3",
   "version": "3.10.4"
  }
 },
 "nbformat": 4,
 "nbformat_minor": 2
}
